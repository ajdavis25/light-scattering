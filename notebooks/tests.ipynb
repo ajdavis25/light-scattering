{
 "cells": [
  {
   "cell_type": "markdown",
   "metadata": {},
   "source": [
    "0. understand the maths (base vs. top of atmosphere)\n",
    "1. what is the color of the twilight sky with spherical model\n",
    "2. check energy loss for the model to see if we're right\n",
    "    - E_in = (I_o)(cos(theta_o))\n",
    "    - E_out = int[0, 2pi](int[0, pi/2](I(theta, phi)sin(theta)(cos(theta))))d(theta)d(phi)"
   ]
  },
  {
   "cell_type": "markdown",
   "metadata": {},
   "source": [
    "monte carlo/invariant imbedding techniques to compare to our model"
   ]
  }
 ],
 "metadata": {
  "language_info": {
   "name": "python"
  }
 },
 "nbformat": 4,
 "nbformat_minor": 2
}
