{
 "cells": [
  {
   "cell_type": "code",
   "execution_count": null,
   "metadata": {},
   "outputs": [],
   "source": [
    "import matplotlib.pyplot as plt\n",
    "from matplotlib import im\n",
    "\n",
    "\"\"\"\n",
    "for i in range(190):\n",
    "    plt.title('Test Plot')\n",
    "    plt.xlabel('0')\n",
    "    plt.ylabel('I')\n",
    "    plt.plot(x,y)\n",
    "    plt.show()\n",
    "im.save('test.png')\n",
    "\"\"\"\n"
   ]
  }
 ],
 "metadata": {
  "kernelspec": {
   "display_name": "snakes",
   "language": "python",
   "name": "python3"
  },
  "language_info": {
   "name": "python",
   "version": "3.12.4"
  }
 },
 "nbformat": 4,
 "nbformat_minor": 2
}
